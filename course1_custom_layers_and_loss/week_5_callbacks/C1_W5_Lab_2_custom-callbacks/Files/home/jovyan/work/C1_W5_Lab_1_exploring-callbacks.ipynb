{
 "cells": [
  {
   "cell_type": "markdown",
   "metadata": {
    "colab_type": "text",
    "id": "view-in-github"
   },
   "source": [
    "<a href=\"https://colab.research.google.com/github/https-deeplearning-ai/tensorflow-3-public/blob/main/Course%201%20-%20Custom%20Models%2C%20Layers%20and%20Loss%20Functions/Week%205%20-%20Callbacks/C1_W5_Lab_1_exploring-callbacks.ipynb\" target=\"_parent\"><img src=\"https://colab.research.google.com/assets/colab-badge.svg\" alt=\"Open In Colab\"/></a>"
   ]
  },
  {
   "cell_type": "markdown",
   "metadata": {
    "colab_type": "text",
    "id": "0c_TYhQOUe1j"
   },
   "source": [
    "# Ungraded Lab: Introduction to Keras callbacks\n",
    "\n",
    "In Keras, `Callback` is a Python class meant to be subclassed to provide specific functionality, with a set of methods called at various stages of training (including batch/epoch start and ends), testing, and predicting. Callbacks are useful to get a view on internal states and statistics of the model during training. The methods of the callbacks can  be called at different stages of training/evaluating/inference. Keras has available [callbacks](https://keras.io/api/callbacks/) and we'll show how you can use it in the following sections. Please click the **Open in Colab** badge above to complete this exercise in Colab. This will allow you to take advantage of the free GPU runtime (for faster training) and compatibility with all the packages needed in this notebook."
   ]
  },
  {
   "cell_type": "markdown",
   "metadata": {
    "colab_type": "text",
    "id": "Uyl69EyRQx-f"
   },
   "source": [
    "## Model methods that take callbacks\n",
    "Users can supply a list of callbacks to the following `tf.keras.Model` methods:\n",
    "* [`fit()`](https://www.tensorflow.org/versions/r2.0/api_docs/python/tf/keras/Model#fit), [`fit_generator()`](https://www.tensorflow.org/versions/r2.0/api_docs/python/tf/keras/Model#fit_generator)\n",
    "Trains the model for a fixed number of epochs (iterations over a dataset, or data yielded batch-by-batch by a Python generator).\n",
    "* [`evaluate()`](https://www.tensorflow.org/versions/r2.0/api_docs/python/tf/keras/Model#evaluate), [`evaluate_generator()`](https://www.tensorflow.org/versions/r2.0/api_docs/python/tf/keras/Model#evaluate_generator)\n",
    "Evaluates the model for given data or data generator. Outputs the loss and metric values from the evaluation.\n",
    "* [`predict()`](https://www.tensorflow.org/versions/r2.0/api_docs/python/tf/keras/Model#predict), [`predict_generator()`](https://www.tensorflow.org/versions/r2.0/api_docs/python/tf/keras/Model#predict_generator)\n",
    "Generates output predictions for the input data or data generator."
   ]
  },
  {
   "cell_type": "markdown",
   "metadata": {},
   "source": [
    "## Imports"
   ]
  },
  {
   "cell_type": "code",
   "execution_count": 1,
   "metadata": {
    "colab": {},
    "colab_type": "code",
    "id": "AlT1Kh3uA9lZ"
   },
   "outputs": [
    {
     "name": "stdout",
     "output_type": "stream",
     "text": [
      "Version:  2.1.0\n"
     ]
    }
   ],
   "source": [
    "from __future__ import absolute_import, division, print_function, unicode_literals\n",
    "\n",
    "try:\n",
    "    # %tensorflow_version only exists in Colab.\n",
    "    %tensorflow_version 2.x\n",
    "except Exception:\n",
    "    pass\n",
    "\n",
    "import tensorflow as tf\n",
    "import tensorflow_datasets as tfds\n",
    "import matplotlib.pyplot as plt\n",
    "import io\n",
    "from PIL import Image\n",
    "\n",
    "from tensorflow.keras.callbacks import TensorBoard, EarlyStopping, LearningRateScheduler, ModelCheckpoint, CSVLogger, ReduceLROnPlateau\n",
    "%load_ext tensorboard\n",
    "\n",
    "import os\n",
    "import matplotlib.pylab as plt\n",
    "import numpy as np\n",
    "import math\n",
    "import datetime\n",
    "import pandas as pd\n",
    "\n",
    "print(\"Version: \", tf.__version__)\n",
    "tf.get_logger().setLevel('INFO')"
   ]
  },
  {
   "cell_type": "markdown",
   "metadata": {
    "colab_type": "text",
    "id": "HnSljqtsXKfb"
   },
   "source": [
    "# Examples of Keras callback applications\n",
    "The following section will guide you through creating simple [Callback](https://keras.io/api/callbacks/) applications."
   ]
  },
  {
   "cell_type": "code",
   "execution_count": 2,
   "metadata": {
    "colab": {},
    "colab_type": "code",
    "id": "spskRuxvCYQE"
   },
   "outputs": [],
   "source": [
    "# Download and prepare the horses or humans dataset\n",
    "\n",
    "# horses_or_humans 3.0.0 has already been downloaded for you\n",
    "path = \"./tensorflow_datasets\"\n",
    "splits, info = tfds.load('horses_or_humans', data_dir=path, as_supervised=True, with_info=True, split=['train[:80%]', 'train[80%:]', 'test'])\n",
    "\n",
    "(train_examples, validation_examples, test_examples) = splits\n",
    "\n",
    "num_examples = info.splits['train'].num_examples\n",
    "num_classes = info.features['label'].num_classes"
   ]
  },
  {
   "cell_type": "code",
   "execution_count": 3,
   "metadata": {
    "colab": {},
    "colab_type": "code",
    "id": "veIsubKTCZsN"
   },
   "outputs": [],
   "source": [
    "SIZE = 150 #@param {type:\"slider\", min:64, max:300, step:1}\n",
    "IMAGE_SIZE = (SIZE, SIZE)"
   ]
  },
  {
   "cell_type": "code",
   "execution_count": 4,
   "metadata": {
    "colab": {},
    "colab_type": "code",
    "id": "faajLlErCb1S"
   },
   "outputs": [],
   "source": [
    "def format_image(image, label):\n",
    "  image = tf.image.resize(image, IMAGE_SIZE) / 255.0\n",
    "  return  image, label"
   ]
  },
  {
   "cell_type": "code",
   "execution_count": 5,
   "metadata": {
    "colab": {},
    "colab_type": "code",
    "id": "AVXPuU12Cdka"
   },
   "outputs": [],
   "source": [
    "BATCH_SIZE = 32 #@param {type:\"integer\"}"
   ]
  },
  {
   "cell_type": "code",
   "execution_count": 6,
   "metadata": {
    "colab": {},
    "colab_type": "code",
    "id": "0lHDkFVaCe48"
   },
   "outputs": [],
   "source": [
    "train_batches = train_examples.shuffle(num_examples // 4).map(format_image).batch(BATCH_SIZE).prefetch(1)\n",
    "validation_batches = validation_examples.map(format_image).batch(BATCH_SIZE).prefetch(1)\n",
    "test_batches = test_examples.map(format_image).batch(1)"
   ]
  },
  {
   "cell_type": "code",
   "execution_count": 7,
   "metadata": {
    "colab": {},
    "colab_type": "code",
    "id": "DxsCqEIkCgUt"
   },
   "outputs": [
    {
     "data": {
      "text/plain": [
       "TensorShape([32, 150, 150, 3])"
      ]
     },
     "execution_count": 7,
     "metadata": {},
     "output_type": "execute_result"
    }
   ],
   "source": [
    "for image_batch, label_batch in train_batches.take(1):\n",
    "  pass\n",
    "\n",
    "image_batch.shape"
   ]
  },
  {
   "cell_type": "code",
   "execution_count": 8,
   "metadata": {
    "colab": {},
    "colab_type": "code",
    "id": "iDBpWvHXCh2A"
   },
   "outputs": [],
   "source": [
    "def build_model(dense_units, input_shape=IMAGE_SIZE + (3,)):\n",
    "  model = tf.keras.models.Sequential([\n",
    "      tf.keras.layers.Conv2D(16, (3, 3), activation='relu', input_shape=input_shape),\n",
    "      tf.keras.layers.MaxPooling2D(2, 2),\n",
    "      tf.keras.layers.Conv2D(32, (3, 3), activation='relu'),\n",
    "      tf.keras.layers.MaxPooling2D(2, 2),\n",
    "      tf.keras.layers.Conv2D(64, (3, 3), activation='relu'),\n",
    "      tf.keras.layers.MaxPooling2D(2, 2),\n",
    "      tf.keras.layers.Flatten(),\n",
    "      tf.keras.layers.Dense(dense_units, activation='relu'),\n",
    "      tf.keras.layers.Dense(2, activation='softmax')\n",
    "  ])\n",
    "  return model"
   ]
  },
  {
   "cell_type": "markdown",
   "metadata": {
    "colab_type": "text",
    "id": "0ZKGkjagENSw"
   },
   "source": [
    "## [TensorBoard](https://keras.io/api/callbacks/tensorboard/)\n",
    "\n",
    "Enable visualizations for TensorBoard."
   ]
  },
  {
   "cell_type": "code",
   "execution_count": 9,
   "metadata": {
    "colab": {},
    "colab_type": "code",
    "id": "CeiD2WVEHbex"
   },
   "outputs": [],
   "source": [
    "!rm -rf logs"
   ]
  },
  {
   "cell_type": "code",
   "execution_count": 10,
   "metadata": {
    "colab": {},
    "colab_type": "code",
    "id": "PpLwPLnAEOzv"
   },
   "outputs": [
    {
     "name": "stdout",
     "output_type": "stream",
     "text": [
      "Epoch 1/10\n",
      "26/26 [==============================] - 22s 845ms/step - loss: 0.6646 - accuracy: 0.5864 - val_loss: 0.6241 - val_accuracy: 0.6927\n",
      "Epoch 2/10\n",
      "26/26 [==============================] - 21s 807ms/step - loss: 0.5921 - accuracy: 0.7251 - val_loss: 0.5690 - val_accuracy: 0.7024\n",
      "Epoch 3/10\n",
      "26/26 [==============================] - 21s 815ms/step - loss: 0.5270 - accuracy: 0.7567 - val_loss: 0.4896 - val_accuracy: 0.7610\n",
      "Epoch 4/10\n",
      "26/26 [==============================] - 21s 815ms/step - loss: 0.4610 - accuracy: 0.7749 - val_loss: 0.4670 - val_accuracy: 0.8293\n",
      "Epoch 5/10\n",
      "26/26 [==============================] - 21s 812ms/step - loss: 0.4091 - accuracy: 0.8212 - val_loss: 0.3500 - val_accuracy: 0.8634\n",
      "Epoch 6/10\n",
      "26/26 [==============================] - 21s 811ms/step - loss: 0.3378 - accuracy: 0.8735 - val_loss: 0.3078 - val_accuracy: 0.8829\n",
      "Epoch 7/10\n",
      "26/26 [==============================] - 20s 781ms/step - loss: 0.2726 - accuracy: 0.9051 - val_loss: 0.2119 - val_accuracy: 0.9610\n",
      "Epoch 8/10\n",
      "26/26 [==============================] - 20s 773ms/step - loss: 0.2211 - accuracy: 0.9392 - val_loss: 0.1587 - val_accuracy: 0.9902\n",
      "Epoch 9/10\n",
      "26/26 [==============================] - 20s 769ms/step - loss: 0.2037 - accuracy: 0.9367 - val_loss: 0.1350 - val_accuracy: 0.9805\n",
      "Epoch 10/10\n",
      "26/26 [==============================] - 20s 777ms/step - loss: 0.1390 - accuracy: 0.9672 - val_loss: 0.0975 - val_accuracy: 0.9902\n"
     ]
    },
    {
     "data": {
      "text/plain": [
       "<tensorflow.python.keras.callbacks.History at 0x7f74ea061cd0>"
      ]
     },
     "execution_count": 10,
     "metadata": {},
     "output_type": "execute_result"
    }
   ],
   "source": [
    "model = build_model(dense_units=256)\n",
    "model.compile(\n",
    "    optimizer='sgd',\n",
    "    loss='sparse_categorical_crossentropy', \n",
    "    metrics=['accuracy'])\n",
    "  \n",
    "logdir = os.path.join(\"logs\", datetime.datetime.now().strftime(\"%Y%m%d-%H%M%S\"))\n",
    "tensorboard_callback = tf.keras.callbacks.TensorBoard(logdir)\n",
    "\n",
    "model.fit(train_batches, \n",
    "          epochs=10, \n",
    "          validation_data=validation_batches, \n",
    "          callbacks=[tensorboard_callback])"
   ]
  },
  {
   "cell_type": "code",
   "execution_count": 11,
   "metadata": {
    "colab": {},
    "colab_type": "code",
    "id": "iJunWOjZE0ir"
   },
   "outputs": [
    {
     "data": {
      "text/html": [
       "\n",
       "      <iframe id=\"tensorboard-frame-b47b872b33900f2a\" width=\"100%\" height=\"800\" frameborder=\"0\">\n",
       "      </iframe>\n",
       "      <script>\n",
       "        (function() {\n",
       "          const frame = document.getElementById(\"tensorboard-frame-b47b872b33900f2a\");\n",
       "          const url = new URL(\"/\", window.location);\n",
       "          url.port = 6006;\n",
       "          frame.src = url;\n",
       "        })();\n",
       "      </script>\n",
       "  "
      ],
      "text/plain": [
       "<IPython.core.display.HTML object>"
      ]
     },
     "metadata": {},
     "output_type": "display_data"
    }
   ],
   "source": [
    "%tensorboard --logdir logs"
   ]
  },
  {
   "cell_type": "markdown",
   "metadata": {
    "colab_type": "text",
    "id": "wv9H4Pc2Mfl7"
   },
   "source": [
    "## [Model Checkpoint](https://keras.io/api/callbacks/model_checkpoint/)\n",
    "\n",
    "Callback to save the Keras model or model weights at some frequency."
   ]
  },
  {
   "cell_type": "code",
   "execution_count": 12,
   "metadata": {
    "colab": {},
    "colab_type": "code",
    "id": "PYV4FJ8iMmDq"
   },
   "outputs": [
    {
     "name": "stdout",
     "output_type": "stream",
     "text": [
      "Epoch 1/5\n",
      "\n",
      "Epoch 00001: saving model to weights.01-0.69.h5\n",
      "26/26 - 21s - loss: 0.6707 - accuracy: 0.5803 - val_loss: 0.6948 - val_accuracy: 0.4976\n",
      "Epoch 2/5\n",
      "\n",
      "Epoch 00002: saving model to weights.02-0.59.h5\n",
      "26/26 - 20s - loss: 0.6344 - accuracy: 0.6411 - val_loss: 0.5940 - val_accuracy: 0.7659\n",
      "Epoch 3/5\n",
      "\n",
      "Epoch 00003: saving model to weights.03-0.55.h5\n",
      "26/26 - 20s - loss: 0.5695 - accuracy: 0.7129 - val_loss: 0.5474 - val_accuracy: 0.7659\n",
      "Epoch 4/5\n",
      "\n",
      "Epoch 00004: saving model to weights.04-0.51.h5\n",
      "26/26 - 20s - loss: 0.5084 - accuracy: 0.7470 - val_loss: 0.5108 - val_accuracy: 0.7854\n",
      "Epoch 5/5\n",
      "\n",
      "Epoch 00005: saving model to weights.05-0.44.h5\n",
      "26/26 - 20s - loss: 0.4785 - accuracy: 0.7749 - val_loss: 0.4418 - val_accuracy: 0.8098\n"
     ]
    },
    {
     "data": {
      "text/plain": [
       "<tensorflow.python.keras.callbacks.History at 0x7f74e9eaae50>"
      ]
     },
     "execution_count": 12,
     "metadata": {},
     "output_type": "execute_result"
    }
   ],
   "source": [
    "model = build_model(dense_units=256)\n",
    "model.compile(\n",
    "    optimizer='sgd',\n",
    "    loss='sparse_categorical_crossentropy', \n",
    "    metrics=['accuracy'])\n",
    "  \n",
    "model.fit(train_batches, \n",
    "          epochs=5, \n",
    "          validation_data=validation_batches, \n",
    "          verbose=2,\n",
    "          callbacks=[ModelCheckpoint('weights.{epoch:02d}-{val_loss:.2f}.h5', verbose=1),\n",
    "          ])"
   ]
  },
  {
   "cell_type": "code",
   "execution_count": 13,
   "metadata": {
    "colab": {},
    "colab_type": "code",
    "id": "oGvjQ8IlMmK6"
   },
   "outputs": [
    {
     "name": "stdout",
     "output_type": "stream",
     "text": [
      "\n",
      "Epoch 00001: saving model to saved_model\n",
      "WARNING:tensorflow:From /opt/conda/lib/python3.7/site-packages/tensorflow_core/python/ops/resource_variable_ops.py:1786: calling BaseResourceVariable.__init__ (from tensorflow.python.ops.resource_variable_ops) with constraint is deprecated and will be removed in a future version.\n",
      "Instructions for updating:\n",
      "If using Keras pass *_constraint arguments to layers.\n"
     ]
    },
    {
     "name": "stderr",
     "output_type": "stream",
     "text": [
      "WARNING:tensorflow:From /opt/conda/lib/python3.7/site-packages/tensorflow_core/python/ops/resource_variable_ops.py:1786: calling BaseResourceVariable.__init__ (from tensorflow.python.ops.resource_variable_ops) with constraint is deprecated and will be removed in a future version.\n",
      "Instructions for updating:\n",
      "If using Keras pass *_constraint arguments to layers.\n"
     ]
    },
    {
     "name": "stdout",
     "output_type": "stream",
     "text": [
      "INFO:tensorflow:Assets written to: saved_model/assets\n"
     ]
    },
    {
     "name": "stderr",
     "output_type": "stream",
     "text": [
      "INFO:tensorflow:Assets written to: saved_model/assets\n"
     ]
    },
    {
     "name": "stdout",
     "output_type": "stream",
     "text": [
      "26/26 - 21s - loss: 0.6751 - accuracy: 0.5669 - val_loss: 0.6732 - val_accuracy: 0.4683\n"
     ]
    },
    {
     "data": {
      "text/plain": [
       "<tensorflow.python.keras.callbacks.History at 0x7f74e9de3e50>"
      ]
     },
     "execution_count": 13,
     "metadata": {},
     "output_type": "execute_result"
    }
   ],
   "source": [
    "model = build_model(dense_units=256)\n",
    "model.compile(\n",
    "    optimizer='sgd',\n",
    "    loss='sparse_categorical_crossentropy', \n",
    "    metrics=['accuracy'])\n",
    "  \n",
    "model.fit(train_batches, \n",
    "          epochs=1, \n",
    "          validation_data=validation_batches, \n",
    "          verbose=2,\n",
    "          callbacks=[ModelCheckpoint('saved_model', verbose=1)\n",
    "          ])"
   ]
  },
  {
   "cell_type": "code",
   "execution_count": 14,
   "metadata": {
    "colab": {},
    "colab_type": "code",
    "id": "Y1ConwoB0EjD"
   },
   "outputs": [
    {
     "name": "stdout",
     "output_type": "stream",
     "text": [
      "Epoch 1/2\n",
      "\n",
      "Epoch 00001: saving model to model.h5\n",
      "26/26 - 21s - loss: 0.6628 - accuracy: 0.5791 - val_loss: 0.7176 - val_accuracy: 0.4341\n",
      "Epoch 2/2\n",
      "\n",
      "Epoch 00002: saving model to model.h5\n",
      "26/26 - 22s - loss: 0.6064 - accuracy: 0.6946 - val_loss: 0.5894 - val_accuracy: 0.7415\n"
     ]
    },
    {
     "data": {
      "text/plain": [
       "<tensorflow.python.keras.callbacks.History at 0x7f74e935e590>"
      ]
     },
     "execution_count": 14,
     "metadata": {},
     "output_type": "execute_result"
    }
   ],
   "source": [
    "model = build_model(dense_units=256)\n",
    "model.compile(\n",
    "    optimizer='sgd',\n",
    "    loss='sparse_categorical_crossentropy', \n",
    "    metrics=['accuracy'])\n",
    "  \n",
    "model.fit(train_batches, \n",
    "          epochs=2, \n",
    "          validation_data=validation_batches, \n",
    "          verbose=2,\n",
    "          callbacks=[ModelCheckpoint('model.h5', verbose=1)\n",
    "          ])"
   ]
  },
  {
   "cell_type": "markdown",
   "metadata": {
    "colab_type": "text",
    "id": "kptNF0--Lznv"
   },
   "source": [
    "## [Early stopping](https://keras.io/api/callbacks/early_stopping/)\n",
    "\n",
    "Stop training when a monitored metric has stopped improving."
   ]
  },
  {
   "cell_type": "code",
   "execution_count": 15,
   "metadata": {
    "colab": {},
    "colab_type": "code",
    "id": "KJOJTJYdCkdY"
   },
   "outputs": [
    {
     "name": "stdout",
     "output_type": "stream",
     "text": [
      "Epoch 1/50\n",
      "26/26 - 21s - loss: 0.6684 - accuracy: 0.5888 - val_loss: 0.6276 - val_accuracy: 0.7854\n",
      "Epoch 2/50\n",
      "26/26 - 21s - loss: 0.6007 - accuracy: 0.7141 - val_loss: 0.6924 - val_accuracy: 0.4780\n",
      "Epoch 3/50\n",
      "26/26 - 20s - loss: 0.5307 - accuracy: 0.7822 - val_loss: 0.4826 - val_accuracy: 0.8341\n",
      "Epoch 4/50\n",
      "26/26 - 20s - loss: 0.4482 - accuracy: 0.8224 - val_loss: 0.6085 - val_accuracy: 0.5902\n",
      "Epoch 5/50\n",
      "26/26 - 20s - loss: 0.3898 - accuracy: 0.8552 - val_loss: 0.3459 - val_accuracy: 0.8927\n",
      "Epoch 6/50\n",
      "26/26 - 20s - loss: 0.2961 - accuracy: 0.8881 - val_loss: 0.2351 - val_accuracy: 0.9463\n",
      "Epoch 7/50\n",
      "26/26 - 20s - loss: 0.2402 - accuracy: 0.9367 - val_loss: 0.1969 - val_accuracy: 0.9463\n",
      "Epoch 8/50\n",
      "26/26 - 20s - loss: 0.1785 - accuracy: 0.9550 - val_loss: 0.1520 - val_accuracy: 0.9610\n",
      "Epoch 9/50\n",
      "26/26 - 20s - loss: 0.1538 - accuracy: 0.9623 - val_loss: 0.1555 - val_accuracy: 0.9415\n",
      "Epoch 10/50\n",
      "26/26 - 20s - loss: 0.1372 - accuracy: 0.9635 - val_loss: 0.1556 - val_accuracy: 0.9366\n",
      "Epoch 11/50\n",
      "Restoring model weights from the end of the best epoch.\n",
      "26/26 - 20s - loss: 0.0994 - accuracy: 0.9781 - val_loss: 0.1177 - val_accuracy: 0.9561\n",
      "Epoch 00011: early stopping\n"
     ]
    },
    {
     "data": {
      "text/plain": [
       "<tensorflow.python.keras.callbacks.History at 0x7f74e92e0a50>"
      ]
     },
     "execution_count": 15,
     "metadata": {},
     "output_type": "execute_result"
    }
   ],
   "source": [
    "model = build_model(dense_units=256)\n",
    "model.compile(\n",
    "    optimizer='sgd',\n",
    "    loss='sparse_categorical_crossentropy', \n",
    "    metrics=['accuracy'])\n",
    "  \n",
    "model.fit(train_batches, \n",
    "          epochs=50, \n",
    "          validation_data=validation_batches, \n",
    "          verbose=2,\n",
    "          callbacks=[EarlyStopping(\n",
    "              patience=3,\n",
    "              min_delta=0.05,\n",
    "              baseline=0.8,\n",
    "              mode='min',\n",
    "              monitor='val_loss',\n",
    "              restore_best_weights=True,\n",
    "              verbose=1)\n",
    "          ])"
   ]
  },
  {
   "cell_type": "markdown",
   "metadata": {
    "colab_type": "text",
    "id": "8mDzWUD4Pqq5"
   },
   "source": [
    "## [CSV Logger](https://keras.io/api/callbacks/csv_logger/)\n",
    "\n",
    "Callback that streams epoch results to a CSV file."
   ]
  },
  {
   "cell_type": "code",
   "execution_count": 16,
   "metadata": {
    "colab": {},
    "colab_type": "code",
    "id": "cffnMpmGPtMh"
   },
   "outputs": [
    {
     "name": "stdout",
     "output_type": "stream",
     "text": [
      "Epoch 1/5\n",
      "26/26 [==============================] - 20s 773ms/step - loss: 0.6732 - accuracy: 0.5742 - val_loss: 0.6482 - val_accuracy: 0.8146\n",
      "Epoch 2/5\n",
      "26/26 [==============================] - 20s 761ms/step - loss: 0.6239 - accuracy: 0.6813 - val_loss: 0.6040 - val_accuracy: 0.6439\n",
      "Epoch 3/5\n",
      "26/26 [==============================] - 20s 766ms/step - loss: 0.5864 - accuracy: 0.7019 - val_loss: 0.6893 - val_accuracy: 0.4927\n",
      "Epoch 4/5\n",
      "26/26 [==============================] - 20s 761ms/step - loss: 0.5391 - accuracy: 0.7336 - val_loss: 0.4656 - val_accuracy: 0.9171\n",
      "Epoch 5/5\n",
      "26/26 [==============================] - 20s 758ms/step - loss: 0.4994 - accuracy: 0.7956 - val_loss: 0.4078 - val_accuracy: 0.9024\n"
     ]
    },
    {
     "data": {
      "text/plain": [
       "<tensorflow.python.keras.callbacks.History at 0x7f74e9c90e10>"
      ]
     },
     "execution_count": 16,
     "metadata": {},
     "output_type": "execute_result"
    }
   ],
   "source": [
    "model = build_model(dense_units=256)\n",
    "model.compile(\n",
    "    optimizer='sgd',\n",
    "    loss='sparse_categorical_crossentropy', \n",
    "    metrics=['accuracy'])\n",
    "  \n",
    "csv_file = 'training.csv'\n",
    "\n",
    "model.fit(train_batches, \n",
    "          epochs=5, \n",
    "          validation_data=validation_batches, \n",
    "          callbacks=[CSVLogger(csv_file)\n",
    "          ])"
   ]
  },
  {
   "cell_type": "code",
   "execution_count": 17,
   "metadata": {
    "colab": {},
    "colab_type": "code",
    "id": "B9tkYi03QV7R"
   },
   "outputs": [
    {
     "data": {
      "text/html": [
       "<div>\n",
       "<style scoped>\n",
       "    .dataframe tbody tr th:only-of-type {\n",
       "        vertical-align: middle;\n",
       "    }\n",
       "\n",
       "    .dataframe tbody tr th {\n",
       "        vertical-align: top;\n",
       "    }\n",
       "\n",
       "    .dataframe thead th {\n",
       "        text-align: right;\n",
       "    }\n",
       "</style>\n",
       "<table border=\"1\" class=\"dataframe\">\n",
       "  <thead>\n",
       "    <tr style=\"text-align: right;\">\n",
       "      <th></th>\n",
       "      <th>epoch</th>\n",
       "      <th>accuracy</th>\n",
       "      <th>loss</th>\n",
       "      <th>val_accuracy</th>\n",
       "      <th>val_loss</th>\n",
       "    </tr>\n",
       "  </thead>\n",
       "  <tbody>\n",
       "    <tr>\n",
       "      <th>0</th>\n",
       "      <td>0</td>\n",
       "      <td>0.574209</td>\n",
       "      <td>0.673508</td>\n",
       "      <td>0.814634</td>\n",
       "      <td>0.648201</td>\n",
       "    </tr>\n",
       "    <tr>\n",
       "      <th>1</th>\n",
       "      <td>1</td>\n",
       "      <td>0.681265</td>\n",
       "      <td>0.624179</td>\n",
       "      <td>0.643902</td>\n",
       "      <td>0.604045</td>\n",
       "    </tr>\n",
       "    <tr>\n",
       "      <th>2</th>\n",
       "      <td>2</td>\n",
       "      <td>0.701947</td>\n",
       "      <td>0.585506</td>\n",
       "      <td>0.492683</td>\n",
       "      <td>0.689346</td>\n",
       "    </tr>\n",
       "    <tr>\n",
       "      <th>3</th>\n",
       "      <td>3</td>\n",
       "      <td>0.733577</td>\n",
       "      <td>0.540475</td>\n",
       "      <td>0.917073</td>\n",
       "      <td>0.465570</td>\n",
       "    </tr>\n",
       "    <tr>\n",
       "      <th>4</th>\n",
       "      <td>4</td>\n",
       "      <td>0.795620</td>\n",
       "      <td>0.498889</td>\n",
       "      <td>0.902439</td>\n",
       "      <td>0.407804</td>\n",
       "    </tr>\n",
       "  </tbody>\n",
       "</table>\n",
       "</div>"
      ],
      "text/plain": [
       "   epoch  accuracy      loss  val_accuracy  val_loss\n",
       "0      0  0.574209  0.673508      0.814634  0.648201\n",
       "1      1  0.681265  0.624179      0.643902  0.604045\n",
       "2      2  0.701947  0.585506      0.492683  0.689346\n",
       "3      3  0.733577  0.540475      0.917073  0.465570\n",
       "4      4  0.795620  0.498889      0.902439  0.407804"
      ]
     },
     "execution_count": 17,
     "metadata": {},
     "output_type": "execute_result"
    }
   ],
   "source": [
    "pd.read_csv(csv_file).head()"
   ]
  },
  {
   "cell_type": "markdown",
   "metadata": {
    "colab_type": "text",
    "id": "Dt9C2Y9fRBKN"
   },
   "source": [
    "## [Learning Rate Scheduler](https://keras.io/api/callbacks/learning_rate_scheduler/)\n",
    "\n",
    "Updates the learning rate during training."
   ]
  },
  {
   "cell_type": "code",
   "execution_count": 18,
   "metadata": {
    "colab": {},
    "colab_type": "code",
    "id": "aJi-xY2VRC03"
   },
   "outputs": [
    {
     "name": "stdout",
     "output_type": "stream",
     "text": [
      "\n",
      "Epoch 00001: LearningRateScheduler reducing learning rate to 0.005.\n",
      "Epoch 1/5\n",
      "26/26 [==============================] - 21s 810ms/step - loss: 0.6846 - accuracy: 0.5377 - val_loss: 0.6867 - val_accuracy: 0.4390\n",
      "\n",
      "Epoch 00002: LearningRateScheduler reducing learning rate to 0.0025.\n",
      "Epoch 2/5\n",
      "26/26 [==============================] - 20s 780ms/step - loss: 0.6638 - accuracy: 0.5985 - val_loss: 0.6773 - val_accuracy: 0.4976\n",
      "\n",
      "Epoch 00003: LearningRateScheduler reducing learning rate to 0.00125.\n",
      "Epoch 3/5\n",
      "26/26 [==============================] - 21s 792ms/step - loss: 0.6542 - accuracy: 0.6058 - val_loss: 0.6678 - val_accuracy: 0.5561\n",
      "\n",
      "Epoch 00004: LearningRateScheduler reducing learning rate to 0.000625.\n",
      "Epoch 4/5\n",
      "26/26 [==============================] - 20s 769ms/step - loss: 0.6497 - accuracy: 0.6460 - val_loss: 0.6660 - val_accuracy: 0.5561\n",
      "\n",
      "Epoch 00005: LearningRateScheduler reducing learning rate to 0.0003125.\n",
      "Epoch 5/5\n",
      "26/26 [==============================] - 20s 754ms/step - loss: 0.6474 - accuracy: 0.6533 - val_loss: 0.6647 - val_accuracy: 0.5659\n"
     ]
    },
    {
     "data": {
      "text/plain": [
       "<tensorflow.python.keras.callbacks.History at 0x7f74e9abce50>"
      ]
     },
     "execution_count": 18,
     "metadata": {},
     "output_type": "execute_result"
    }
   ],
   "source": [
    "model = build_model(dense_units=256)\n",
    "model.compile(\n",
    "    optimizer='sgd',\n",
    "    loss='sparse_categorical_crossentropy', \n",
    "    metrics=['accuracy'])\n",
    "  \n",
    "def step_decay(epoch):\n",
    "\tinitial_lr = 0.01\n",
    "\tdrop = 0.5\n",
    "\tepochs_drop = 1\n",
    "\tlr = initial_lr * math.pow(drop, math.floor((1+epoch)/epochs_drop))\n",
    "\treturn lr\n",
    "\n",
    "model.fit(train_batches, \n",
    "          epochs=5, \n",
    "          validation_data=validation_batches, \n",
    "          callbacks=[LearningRateScheduler(step_decay, verbose=1),\n",
    "                    TensorBoard(log_dir='./log_dir')])"
   ]
  },
  {
   "cell_type": "code",
   "execution_count": 19,
   "metadata": {
    "colab": {},
    "colab_type": "code",
    "id": "M2S4n8nrbV91"
   },
   "outputs": [
    {
     "data": {
      "text/html": [
       "\n",
       "      <iframe id=\"tensorboard-frame-7aaa0d4815d52d51\" width=\"100%\" height=\"800\" frameborder=\"0\">\n",
       "      </iframe>\n",
       "      <script>\n",
       "        (function() {\n",
       "          const frame = document.getElementById(\"tensorboard-frame-7aaa0d4815d52d51\");\n",
       "          const url = new URL(\"/\", window.location);\n",
       "          url.port = 6007;\n",
       "          frame.src = url;\n",
       "        })();\n",
       "      </script>\n",
       "  "
      ],
      "text/plain": [
       "<IPython.core.display.HTML object>"
      ]
     },
     "metadata": {},
     "output_type": "display_data"
    }
   ],
   "source": [
    "%tensorboard --logdir log_dir"
   ]
  },
  {
   "cell_type": "markdown",
   "metadata": {
    "colab_type": "text",
    "id": "y0wcuQyJE_UK"
   },
   "source": [
    "## [ReduceLROnPlateau](https://keras.io/api/callbacks/reduce_lr_on_plateau/)\n",
    "\n",
    "Reduce learning rate when a metric has stopped improving."
   ]
  },
  {
   "cell_type": "code",
   "execution_count": 21,
   "metadata": {
    "colab": {},
    "colab_type": "code",
    "id": "4naxZ-eCFB27"
   },
   "outputs": [
    {
     "name": "stdout",
     "output_type": "stream",
     "text": [
      "Epoch 1/50\n",
      "26/26 [==============================] - 21s 814ms/step - loss: 0.6749 - accuracy: 0.5754 - val_loss: 0.6394 - val_accuracy: 0.7366\n",
      "Epoch 2/50\n",
      "26/26 [==============================] - 21s 789ms/step - loss: 0.6029 - accuracy: 0.7336 - val_loss: 0.5707 - val_accuracy: 0.8098\n",
      "Epoch 3/50\n",
      "26/26 [==============================] - 21s 819ms/step - loss: 0.5603 - accuracy: 0.7251 - val_loss: 0.4810 - val_accuracy: 0.8146\n",
      "Epoch 4/50\n",
      "26/26 [==============================] - 21s 800ms/step - loss: 0.4704 - accuracy: 0.8029 - val_loss: 0.4117 - val_accuracy: 0.8098\n",
      "Epoch 5/50\n",
      "26/26 [==============================] - 21s 796ms/step - loss: 0.3873 - accuracy: 0.8564 - val_loss: 0.3875 - val_accuracy: 0.8195\n",
      "Epoch 6/50\n",
      "26/26 [==============================] - 21s 815ms/step - loss: 0.3776 - accuracy: 0.8637 - val_loss: 0.3146 - val_accuracy: 0.9024\n",
      "Epoch 7/50\n",
      "26/26 [==============================] - 21s 789ms/step - loss: 0.3001 - accuracy: 0.8820 - val_loss: 0.2966 - val_accuracy: 0.8780\n",
      "Epoch 8/50\n",
      "25/26 [===========================>..] - ETA: 0s - loss: 0.2406 - accuracy: 0.9237\n",
      "Epoch 00008: ReduceLROnPlateau reducing learning rate to 0.0019999999552965165.\n",
      "26/26 [==============================] - 21s 796ms/step - loss: 0.2429 - accuracy: 0.9221 - val_loss: 0.3035 - val_accuracy: 0.8878\n",
      "Epoch 9/50\n",
      "26/26 [==============================] - 20s 777ms/step - loss: 0.1879 - accuracy: 0.9550 - val_loss: 0.1704 - val_accuracy: 0.9561\n",
      "Epoch 10/50\n",
      "26/26 [==============================] - 21s 796ms/step - loss: 0.1711 - accuracy: 0.9623 - val_loss: 0.1636 - val_accuracy: 0.9659\n",
      "Epoch 11/50\n",
      "26/26 [==============================] - 21s 800ms/step - loss: 0.1624 - accuracy: 0.9684 - val_loss: 0.1563 - val_accuracy: 0.9659\n",
      "Epoch 12/50\n",
      "26/26 [==============================] - 21s 804ms/step - loss: 0.1555 - accuracy: 0.9696 - val_loss: 0.1467 - val_accuracy: 0.9659\n",
      "Epoch 13/50\n",
      "26/26 [==============================] - 21s 807ms/step - loss: 0.1471 - accuracy: 0.9757 - val_loss: 0.1424 - val_accuracy: 0.9659\n",
      "Epoch 14/50\n",
      "26/26 [==============================] - 21s 797ms/step - loss: 0.1418 - accuracy: 0.9745 - val_loss: 0.1297 - val_accuracy: 0.9756\n",
      "Epoch 15/50\n",
      "26/26 [==============================] - 21s 799ms/step - loss: 0.1343 - accuracy: 0.9769 - val_loss: 0.1253 - val_accuracy: 0.9659\n",
      "Epoch 16/50\n",
      "25/26 [===========================>..] - ETA: 0s - loss: 0.1253 - accuracy: 0.9825\n",
      "Epoch 00016: ReduceLROnPlateau reducing learning rate to 0.001.\n",
      "26/26 [==============================] - 20s 785ms/step - loss: 0.1281 - accuracy: 0.9818 - val_loss: 0.1284 - val_accuracy: 0.9610\n",
      "Epoch 17/50\n",
      "26/26 [==============================] - 21s 796ms/step - loss: 0.1229 - accuracy: 0.9793 - val_loss: 0.1195 - val_accuracy: 0.9659\n",
      "Epoch 18/50\n",
      "26/26 [==============================] - 21s 815ms/step - loss: 0.1186 - accuracy: 0.9805 - val_loss: 0.1149 - val_accuracy: 0.9756\n",
      "Epoch 19/50\n",
      "25/26 [===========================>..] - ETA: 0s - loss: 0.1144 - accuracy: 0.9850\n",
      "Epoch 00019: ReduceLROnPlateau reducing learning rate to 0.001.\n",
      "26/26 [==============================] - 21s 799ms/step - loss: 0.1181 - accuracy: 0.9818 - val_loss: 0.1168 - val_accuracy: 0.9610\n",
      "Epoch 20/50\n",
      "26/26 [==============================] - 21s 812ms/step - loss: 0.1141 - accuracy: 0.9818 - val_loss: 0.1126 - val_accuracy: 0.9659\n",
      "Epoch 21/50\n",
      "26/26 [==============================] - 21s 827ms/step - loss: 0.1120 - accuracy: 0.9830 - val_loss: 0.1107 - val_accuracy: 0.9707\n",
      "Epoch 22/50\n",
      "26/26 [==============================] - 22s 827ms/step - loss: 0.1096 - accuracy: 0.9854 - val_loss: 0.1090 - val_accuracy: 0.9707\n",
      "Epoch 23/50\n",
      "25/26 [===========================>..] - ETA: 0s - loss: 0.1085 - accuracy: 0.9837\n",
      "Epoch 00023: ReduceLROnPlateau reducing learning rate to 0.001.\n",
      "26/26 [==============================] - 22s 843ms/step - loss: 0.1077 - accuracy: 0.9842 - val_loss: 0.1115 - val_accuracy: 0.9610\n",
      "Epoch 24/50\n",
      "26/26 [==============================] - 21s 803ms/step - loss: 0.1059 - accuracy: 0.9842 - val_loss: 0.1046 - val_accuracy: 0.9756\n",
      "Epoch 25/50\n",
      "26/26 [==============================] - 21s 815ms/step - loss: 0.1033 - accuracy: 0.9818 - val_loss: 0.1005 - val_accuracy: 0.9805\n",
      "Epoch 26/50\n",
      "25/26 [===========================>..] - ETA: 0s - loss: 0.0998 - accuracy: 0.9875\n",
      "Epoch 00026: ReduceLROnPlateau reducing learning rate to 0.001.\n",
      "26/26 [==============================] - 21s 804ms/step - loss: 0.1013 - accuracy: 0.9866 - val_loss: 0.1019 - val_accuracy: 0.9756\n",
      "Epoch 27/50\n",
      "26/26 [==============================] - 21s 804ms/step - loss: 0.0988 - accuracy: 0.9842 - val_loss: 0.0984 - val_accuracy: 0.9805\n",
      "Epoch 28/50\n",
      "25/26 [===========================>..] - ETA: 0s - loss: 0.0974 - accuracy: 0.9862\n",
      "Epoch 00028: ReduceLROnPlateau reducing learning rate to 0.001.\n",
      "26/26 [==============================] - 21s 797ms/step - loss: 0.0971 - accuracy: 0.9854 - val_loss: 0.0997 - val_accuracy: 0.9756\n",
      "Epoch 29/50\n",
      "26/26 [==============================] - 21s 804ms/step - loss: 0.0956 - accuracy: 0.9842 - val_loss: 0.0950 - val_accuracy: 0.9805\n",
      "Epoch 30/50\n",
      "26/26 [==============================] - 21s 826ms/step - loss: 0.0939 - accuracy: 0.9866 - val_loss: 0.0939 - val_accuracy: 0.9805\n",
      "Epoch 31/50\n",
      "26/26 [==============================] - 21s 796ms/step - loss: 0.0914 - accuracy: 0.9854 - val_loss: 0.0916 - val_accuracy: 0.9805\n",
      "Epoch 32/50\n",
      "26/26 [==============================] - 21s 800ms/step - loss: 0.0900 - accuracy: 0.9854 - val_loss: 0.0884 - val_accuracy: 0.9805\n",
      "Epoch 33/50\n",
      "25/26 [===========================>..] - ETA: 0s - loss: 0.0895 - accuracy: 0.9850\n",
      "Epoch 00033: ReduceLROnPlateau reducing learning rate to 0.001.\n",
      "26/26 [==============================] - 20s 778ms/step - loss: 0.0880 - accuracy: 0.9854 - val_loss: 0.0895 - val_accuracy: 0.9805\n",
      "Epoch 34/50\n",
      "26/26 [==============================] - 20s 773ms/step - loss: 0.0865 - accuracy: 0.9866 - val_loss: 0.0872 - val_accuracy: 0.9805\n",
      "Epoch 35/50\n",
      "26/26 [==============================] - 20s 781ms/step - loss: 0.0850 - accuracy: 0.9866 - val_loss: 0.0863 - val_accuracy: 0.9805\n",
      "Epoch 36/50\n",
      "26/26 [==============================] - 20s 781ms/step - loss: 0.0831 - accuracy: 0.9842 - val_loss: 0.0838 - val_accuracy: 0.9805\n",
      "Epoch 37/50\n",
      "26/26 [==============================] - 21s 789ms/step - loss: 0.0815 - accuracy: 0.9878 - val_loss: 0.0833 - val_accuracy: 0.9805\n",
      "Epoch 38/50\n",
      "26/26 [==============================] - 21s 804ms/step - loss: 0.0812 - accuracy: 0.9866 - val_loss: 0.0827 - val_accuracy: 0.9805\n",
      "Epoch 39/50\n",
      "26/26 [==============================] - 21s 796ms/step - loss: 0.0795 - accuracy: 0.9854 - val_loss: 0.0813 - val_accuracy: 0.9805\n",
      "Epoch 40/50\n",
      "26/26 [==============================] - 20s 781ms/step - loss: 0.0783 - accuracy: 0.9878 - val_loss: 0.0792 - val_accuracy: 0.9805\n",
      "Epoch 41/50\n",
      "25/26 [===========================>..] - ETA: 0s - loss: 0.0737 - accuracy: 0.9900\n",
      "Epoch 00041: ReduceLROnPlateau reducing learning rate to 0.001.\n",
      "26/26 [==============================] - 20s 769ms/step - loss: 0.0787 - accuracy: 0.9878 - val_loss: 0.0804 - val_accuracy: 0.9805\n",
      "Epoch 42/50\n",
      "25/26 [===========================>..] - ETA: 0s - loss: 0.0762 - accuracy: 0.9862\n",
      "Epoch 00042: ReduceLROnPlateau reducing learning rate to 0.001.\n",
      "26/26 [==============================] - 20s 788ms/step - loss: 0.0752 - accuracy: 0.9866 - val_loss: 0.0794 - val_accuracy: 0.9805\n",
      "Epoch 43/50\n",
      "26/26 [==============================] - 20s 779ms/step - loss: 0.0751 - accuracy: 0.9854 - val_loss: 0.0790 - val_accuracy: 0.9805\n",
      "Epoch 44/50\n",
      "26/26 [==============================] - 20s 787ms/step - loss: 0.0736 - accuracy: 0.9878 - val_loss: 0.0752 - val_accuracy: 0.9805\n",
      "Epoch 45/50\n",
      "26/26 [==============================] - 20s 781ms/step - loss: 0.0724 - accuracy: 0.9891 - val_loss: 0.0746 - val_accuracy: 0.9805\n",
      "Epoch 46/50\n",
      "26/26 [==============================] - 20s 765ms/step - loss: 0.0711 - accuracy: 0.9891 - val_loss: 0.0743 - val_accuracy: 0.9805\n",
      "Epoch 47/50\n",
      "26/26 [==============================] - 20s 781ms/step - loss: 0.0702 - accuracy: 0.9878 - val_loss: 0.0738 - val_accuracy: 0.9805\n",
      "Epoch 48/50\n"
     ]
    },
    {
     "name": "stdout",
     "output_type": "stream",
     "text": [
      "26/26 [==============================] - 20s 773ms/step - loss: 0.0693 - accuracy: 0.9878 - val_loss: 0.0711 - val_accuracy: 0.9805\n",
      "Epoch 49/50\n",
      "25/26 [===========================>..] - ETA: 0s - loss: 0.0693 - accuracy: 0.9887\n",
      "Epoch 00049: ReduceLROnPlateau reducing learning rate to 0.001.\n",
      "26/26 [==============================] - 20s 778ms/step - loss: 0.0680 - accuracy: 0.9891 - val_loss: 0.0724 - val_accuracy: 0.9805\n",
      "Epoch 50/50\n",
      "25/26 [===========================>..] - ETA: 0s - loss: 0.0650 - accuracy: 0.9887\n",
      "Epoch 00050: ReduceLROnPlateau reducing learning rate to 0.001.\n",
      "26/26 [==============================] - 20s 776ms/step - loss: 0.0681 - accuracy: 0.9878 - val_loss: 0.0719 - val_accuracy: 0.9805\n"
     ]
    },
    {
     "data": {
      "text/plain": [
       "<tensorflow.python.keras.callbacks.History at 0x7f74e985ba90>"
      ]
     },
     "execution_count": 21,
     "metadata": {},
     "output_type": "execute_result"
    }
   ],
   "source": [
    "model = build_model(dense_units=256)\n",
    "model.compile(\n",
    "    optimizer='sgd',\n",
    "    loss='sparse_categorical_crossentropy', \n",
    "    metrics=['accuracy'])\n",
    "  \n",
    "model.fit(train_batches, \n",
    "          epochs=50, \n",
    "          validation_data=validation_batches, \n",
    "          callbacks=[ReduceLROnPlateau(monitor='val_loss', \n",
    "                                       factor=0.2, verbose=1,\n",
    "                                       patience=1, min_lr=0.001),\n",
    "                     TensorBoard(log_dir='./log_dir')])"
   ]
  },
  {
   "cell_type": "code",
   "execution_count": 22,
   "metadata": {
    "colab": {},
    "colab_type": "code",
    "id": "isfTWP4NYudk"
   },
   "outputs": [
    {
     "data": {
      "text/plain": [
       "Reusing TensorBoard on port 6007 (pid 3973), started 0:43:44 ago. (Use '!kill 3973' to kill it.)"
      ]
     },
     "metadata": {},
     "output_type": "display_data"
    },
    {
     "data": {
      "text/html": [
       "\n",
       "      <iframe id=\"tensorboard-frame-8a0e24badb2480a3\" width=\"100%\" height=\"800\" frameborder=\"0\">\n",
       "      </iframe>\n",
       "      <script>\n",
       "        (function() {\n",
       "          const frame = document.getElementById(\"tensorboard-frame-8a0e24badb2480a3\");\n",
       "          const url = new URL(\"/\", window.location);\n",
       "          url.port = 6007;\n",
       "          frame.src = url;\n",
       "        })();\n",
       "      </script>\n",
       "  "
      ],
      "text/plain": [
       "<IPython.core.display.HTML object>"
      ]
     },
     "metadata": {},
     "output_type": "display_data"
    }
   ],
   "source": [
    "%tensorboard --logdir log_dir"
   ]
  },
  {
   "cell_type": "code",
   "execution_count": null,
   "metadata": {},
   "outputs": [],
   "source": []
  }
 ],
 "metadata": {
  "colab": {
   "collapsed_sections": [],
   "include_colab_link": true,
   "name": "ExploringCallbacks.ipynb",
   "provenance": []
  },
  "kernelspec": {
   "display_name": "Python 3",
   "language": "python",
   "name": "python3"
  },
  "language_info": {
   "codemirror_mode": {
    "name": "ipython",
    "version": 3
   },
   "file_extension": ".py",
   "mimetype": "text/x-python",
   "name": "python",
   "nbconvert_exporter": "python",
   "pygments_lexer": "ipython3",
   "version": "3.7.6"
  }
 },
 "nbformat": 4,
 "nbformat_minor": 4
}
